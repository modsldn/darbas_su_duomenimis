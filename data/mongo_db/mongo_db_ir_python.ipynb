{
 "cells": [
  {
   "cell_type": "markdown",
   "id": "8a22fc94",
   "metadata": {},
   "source": [
    "## prisijunkime prie MongoDB"
   ]
  },
  {
   "cell_type": "code",
   "execution_count": 1,
   "id": "da229f49",
   "metadata": {},
   "outputs": [],
   "source": [
    "from pymongo import MongoClient"
   ]
  },
  {
   "cell_type": "code",
   "execution_count": 2,
   "id": "a06b7b4b",
   "metadata": {},
   "outputs": [],
   "source": [
    "client = MongoClient(\"mongodb://localhost:27017\") # prisijungiame prie mongodb"
   ]
  },
  {
   "cell_type": "code",
   "execution_count": 3,
   "id": "5f581748",
   "metadata": {},
   "outputs": [],
   "source": [
    "db = client.lietuvos_imones # pasirenkame duomenu baze"
   ]
  },
  {
   "cell_type": "code",
   "execution_count": 4,
   "id": "b90a2d6e",
   "metadata": {},
   "outputs": [],
   "source": [
    "db = client[\"lietuvos_imones\"] # duomenu baze galima pasirinkti kaip atributa arba naudojant indexing operatoriu."
   ]
  },
  {
   "cell_type": "code",
   "execution_count": 5,
   "id": "c4116658",
   "metadata": {},
   "outputs": [],
   "source": [
    "imones = db.imones # pasirenkame collection "
   ]
  },
  {
   "cell_type": "code",
   "execution_count": 6,
   "id": "ec001ff6",
   "metadata": {},
   "outputs": [
    {
     "data": {
      "text/plain": [
       "Collection(Database(MongoClient(host=['localhost:27017'], document_class=dict, tz_aware=False, connect=True), 'lietuvos_imones'), 'imones')"
      ]
     },
     "execution_count": 6,
     "metadata": {},
     "output_type": "execute_result"
    }
   ],
   "source": [
    "imones"
   ]
  },
  {
   "cell_type": "markdown",
   "id": "ca5a4b43",
   "metadata": {},
   "source": [
    "## sukurkime nauja dokumenta"
   ]
  },
  {
   "cell_type": "code",
   "execution_count": 7,
   "id": "50292623",
   "metadata": {},
   "outputs": [],
   "source": [
    "nauja_imone = {\"pavadinimas\":\"UAB nauja imones\"} # sukurkime zodyna. Zodynas bus ikeltas i db kaip naujas dokumentas"
   ]
  },
  {
   "cell_type": "code",
   "execution_count": 8,
   "id": "0b36e7d8",
   "metadata": {},
   "outputs": [],
   "source": [
    "result = imones.insert_one(nauja_imone) # funkcijos pavadinimas sutampa su mongosh operacijos pavadinimu"
   ]
  },
  {
   "cell_type": "code",
   "execution_count": 9,
   "id": "8a3d21db",
   "metadata": {},
   "outputs": [
    {
     "data": {
      "text/plain": [
       "ObjectId('626b7ae984b107332565aff8')"
      ]
     },
     "execution_count": 9,
     "metadata": {},
     "output_type": "execute_result"
    }
   ],
   "source": [
    "result.inserted_id"
   ]
  },
  {
   "cell_type": "code",
   "execution_count": 10,
   "id": "66576a52",
   "metadata": {},
   "outputs": [],
   "source": [
    "nauja_imone_1 = {\"pavadinimas\":\"UAB nauja imone 1\"} # sukuriame keleta nauju imoniu \n",
    "nauja_imone_2 = {\"pavadinimas\":\"UAB nauja imone 2\"}"
   ]
  },
  {
   "cell_type": "code",
   "execution_count": 11,
   "id": "4e0adb42",
   "metadata": {},
   "outputs": [],
   "source": [
    "new_result = imones.insert_many([nauja_imone_1, nauja_imone_2]) # ikeliame naujus dokumentus i db"
   ]
  },
  {
   "cell_type": "code",
   "execution_count": 12,
   "id": "aa211604",
   "metadata": {},
   "outputs": [
    {
     "data": {
      "text/plain": [
       "[ObjectId('626b7aee84b107332565aff9'), ObjectId('626b7aee84b107332565affa')]"
      ]
     },
     "execution_count": 12,
     "metadata": {},
     "output_type": "execute_result"
    }
   ],
   "source": [
    "new_result.inserted_ids"
   ]
  },
  {
   "cell_type": "markdown",
   "id": "4923166f",
   "metadata": {},
   "source": [
    "## atraskime dokumenta"
   ]
  },
  {
   "cell_type": "code",
   "execution_count": 16,
   "id": "20b818a5",
   "metadata": {},
   "outputs": [
    {
     "data": {
      "text/plain": [
       "{'_id': ObjectId('626b7ae984b107332565aff8'),\n",
       " 'pavadinimas': 'UAB nauja imones'}"
      ]
     },
     "execution_count": 16,
     "metadata": {},
     "output_type": "execute_result"
    }
   ],
   "source": [
    "imones.find_one({\"pavadinimas\": \"UAB nauja imones\"})"
   ]
  },
  {
   "cell_type": "code",
   "execution_count": 18,
   "id": "643fb813",
   "metadata": {},
   "outputs": [
    {
     "data": {
      "text/plain": [
       "{'_id': ObjectId('5fb07731261973556a11202b'),\n",
       " 'pavadinimas': 'UAB \"OLAN LT\"',\n",
       " 'kategorijos': ['Naudingosios iškasenos',\n",
       "  'Akmens gaminiai',\n",
       "  'Betonas ir betono gaminiai',\n",
       "  'Kelių tiesimas, remontas, tiltai',\n",
       "  'Statybinės medžiagos',\n",
       "  'Statybos technika, įranga, nuoma'],\n",
       " 'įmonės_kodas': '302583298',\n",
       " 'pvm_mokėtojo_kodas': 'LT100005854919',\n",
       " 'vadovas': 'Rytis Ratomskis, direktorius',\n",
       " 'adresas': 'Ateities pl. 31, LT-52167 Kaunas',\n",
       " 'telefonas': '+370 643 14922',\n",
       " 'mobilus_telefonas': '+370 643 45605',\n",
       " 'faksas': '+370 37 210757',\n",
       " 'tinklalapis': 'http://www.olan.lt',\n",
       " 'darbuotojai': '6 darbuotojai (apdraustieji)',\n",
       " 'sd_draudėjo_kodas': '2088490',\n",
       " 'vidutinis_atlyginimas': '625,89 € (2020 m. rugsėjis)',\n",
       " 'vsd_įmokų_suma': '881,69 € (2020 m. rugsėjis)',\n",
       " 'creditinfo_co': 'Creditinfo CO sistemoje skolų neregistruota',\n",
       " 'pardavimo_pajamos': '2019: 2 000 001 - 3 000 000 € be PVM',\n",
       " 'transportas': '2020-10: 4 automobiliai (priklauso)',\n",
       " 'pranešimai': ['VMI: Įmonė, kuriai taikomos VMI ir SODRA mokestinės pagalbos priemonės dėl COVID-19.SPSC Skaityti visus »',\n",
       "  'SPSC: Išduotas statybos veiklos įmonių kvalifikacijos atestatas. Suteikta teisė būti ypatingo statinio statybos rangovu. (duomenys atnaujinti 2020-05-13).'],\n",
       " 'įmonės_amžius': '9 metai 10 mėnesių 1 diena',\n",
       " 'įvertinimas': '6.7 / 10 (įvertino 19)',\n",
       " 'prekinis_ženklas': 'Granitinė skalda',\n",
       " 'meta': {'version': 3,\n",
       "  'key': 'uab_olan_lt',\n",
       "  'is_response_cached': True,\n",
       "  'timestamp': '2020-11-15T00:32:46.539431+00:00',\n",
       "  'origin': 'db_migrate_v2_to_v3'}}"
      ]
     },
     "execution_count": 18,
     "metadata": {},
     "output_type": "execute_result"
    }
   ],
   "source": [
    "imones.find_one({\"pavadinimas\": 'UAB \"OLAN LT\"'})"
   ]
  },
  {
   "cell_type": "code",
   "execution_count": 49,
   "id": "f9bd3c58",
   "metadata": {
    "scrolled": false
   },
   "outputs": [],
   "source": [
    "imones_list = []\n",
    "# atraskime visas imones, kurios yra  9 metu, 10 menesiu ir 1 dienos amziaus. \n",
    "for doc in imones.find({'įmonės_amžius': '9 metai 10 mėnesių 1 diena'}): \n",
    "    imones_list.append(doc) # rastas imones issaugome sarase"
   ]
  },
  {
   "cell_type": "code",
   "execution_count": 50,
   "id": "83368ac5",
   "metadata": {
    "scrolled": false
   },
   "outputs": [],
   "source": [
    "## grazinti rezultatai yra python zodyno duomenu tipo. \n",
    "## naudodamiesi python galime gauti papildoma informacija apie imones\n",
    "# pvz. vidutinis atlyginimas"
   ]
  },
  {
   "cell_type": "code",
   "execution_count": 51,
   "id": "5b44b41e",
   "metadata": {},
   "outputs": [
    {
     "name": "stdout",
     "output_type": "stream",
     "text": [
      "UAB \"OLAN LT\" 625.89\n",
      "Senjorų Vila, VšĮ 1173.07\n",
      "Baltmed, UAB 1578.51\n",
      "Dzūko Medis, UAB 940.7\n",
      "Partnervetas, UAB 1949.74\n",
      "UAB Vaidos klinika 1527.85\n",
      "KIETAVIŠKIŲ AUTOCENTRAS, UAB 796.0\n"
     ]
    }
   ],
   "source": [
    "for im in imones_list:\n",
    "    try:\n",
    "        vid_atlyginimas = im['vidutinis_atlyginimas'].split('€')[0].strip().replace(',', '.').replace(' ', '')\n",
    "        vid_atlyginimas = float(vid_atlyginimas)\n",
    "        print(im['pavadinimas'], vid_atlyginimas)\n",
    "    except KeyError:\n",
    "        vid_atlyginimas = 'neapibreztas'\n",
    "    "
   ]
  },
  {
   "cell_type": "markdown",
   "id": "9a99804d",
   "metadata": {},
   "source": [
    "## pasinaudokime tekstine paieska"
   ]
  },
  {
   "cell_type": "code",
   "execution_count": 54,
   "id": "a1a9f0f1",
   "metadata": {},
   "outputs": [],
   "source": [
    "import pprint\n",
    "pp = pprint.PrettyPrinter(indent=4)"
   ]
  },
  {
   "cell_type": "code",
   "execution_count": 56,
   "id": "cbbc4f20",
   "metadata": {
    "scrolled": false
   },
   "outputs": [
    {
     "name": "stdout",
     "output_type": "stream",
     "text": [
      "{   '_id': ObjectId('5fbe877e025fc0398f7f8638'),\n",
      "    'adresas': 'Naugarduko g. 84, LT-03160 Vilnius',\n",
      "    'creditinfo_co': 'Creditinfo CO sistemoje skolų neregistruota',\n",
      "    'darbuotojai': '1 darbuotojas (apdraustasis)',\n",
      "    'meta': {   'key': 'uab_maxima',\n",
      "                'origin': 'req-data-scraper-v2',\n",
      "                'timestamp': '2020-11-25T16:34:06.894240+00:00',\n",
      "                'version': 3},\n",
      "    'pardavimo_pajamos': '2015: 0 - 5 000 € be PVM Pajamų istorija »',\n",
      "    'pavadinimas': 'Maxima, UAB',\n",
      "    'sd_draudėjo_kodas': '448311',\n",
      "    'telefonas': '+370 5 2744337',\n",
      "    'vadovas': 'Vilius Rimkus, direktorius',\n",
      "    'įmonės_amžius': '29 metai 9 mėnesiai 18 dienų',\n",
      "    'įmonės_kodas': '132477256',\n",
      "    'įvertinimas': '5.5 / 10 (įvertino 11)'}\n",
      "{   '_id': ObjectId('5fbe27eb1a11a488fa67e3c3'),\n",
      "    'adresas': 'Kaunas',\n",
      "    'creditinfo_co': 'Creditinfo CO sistemoje skolų neregistruota',\n",
      "    'meta': {   'key': 'maxima_pecunia',\n",
      "                'origin': 'req-data-scraper-v2',\n",
      "                'timestamp': '2020-11-25T09:46:19.542375+00:00',\n",
      "                'version': 3},\n",
      "    'mobilus_telefonas': '+370 620 11930',\n",
      "    'pardavimo_pajamos': '2018: 0 - 5 000 € be PVM Pajamų istorija »',\n",
      "    'pavadinimas': 'Maxima pecunia, MB',\n",
      "    'sd_draudėjo_kodas': '2309620',\n",
      "    'tinklalapis': 'http://www.print4print.lt',\n",
      "    'vadovas': 'Kristina Vodnickytė-Astrakova, likvidatorius',\n",
      "    'įmonės_amžius': '5 metai 11 mėnesių 27 dienos',\n",
      "    'įmonės_kodas': '303476388',\n",
      "    'įvertinimas': '6.5 / 10 (įvertino 8)'}\n"
     ]
    }
   ],
   "source": [
    "search_text = 'maxima'\n",
    "for im in imones.find({\"$text\": {\"$search\": search_text}}).limit(2):\n",
    "    pp.pprint(im)"
   ]
  },
  {
   "cell_type": "markdown",
   "id": "d70facd2",
   "metadata": {},
   "source": [
    "# uzduotis"
   ]
  },
  {
   "cell_type": "code",
   "execution_count": 57,
   "id": "a36aad8b",
   "metadata": {},
   "outputs": [],
   "source": [
    "# 1. atraskite imoniu skaiciu, kurios turi daugiau nei 10 darbuotoju\n",
    "# 2. atraskite imoniu skaiciu, kurios yra registruotos Klaipedoje\n",
    "\n",
    "# hint - galite naudoti regexp\n",
    "# https://www.mongodb.com/docs/manual/reference/operator/query/regex/\n"
   ]
  },
  {
   "cell_type": "code",
   "execution_count": 59,
   "id": "4fe3e2dd",
   "metadata": {},
   "outputs": [],
   "source": [
    "# PVZ.\n",
    "# imones, kuriu vadovo vardas yra Vilius\n",
    "viliaus_imones = [*imones.find({'vadovas':{'$regex':'^Vilius'}})]"
   ]
  },
  {
   "cell_type": "code",
   "execution_count": 60,
   "id": "e83ac2c7",
   "metadata": {},
   "outputs": [
    {
     "data": {
      "text/plain": [
       "634"
      ]
     },
     "execution_count": 60,
     "metadata": {},
     "output_type": "execute_result"
    }
   ],
   "source": [
    "len(viliaus_imones) # tokiu imoniu yra 634"
   ]
  },
  {
   "cell_type": "code",
   "execution_count": 61,
   "id": "fab1ce8e",
   "metadata": {},
   "outputs": [
    {
     "data": {
      "text/plain": [
       "{'_id': ObjectId('5fb07755261973556a112075'),\n",
       " 'pavadinimas': 'UAB LANEKA',\n",
       " 'kategorijos': ['Apželdinimas ir aplinkos tvarkymas', 'Akmens gaminiai'],\n",
       " 'įmonės_kodas': '302762237',\n",
       " 'pvm_mokėtojo_kodas': 'LT100006837117',\n",
       " 'vadovas': 'Vilius Perkauskas, direktorius',\n",
       " 'adresas': 'Statybininkų g. 15, LT-98129 Skuodas',\n",
       " 'mobilus_telefonas': '+370 679 26006',\n",
       " 'tinklalapis': 'http://zemaitijosgerbuvis.lt',\n",
       " 'facebook_paskyra': 'https://www.facebook.com/ZemaitijosGerbuvis/',\n",
       " 'darbuotojai': '5 darbuotojai (apdraustieji)',\n",
       " 'sd_draudėjo_kodas': '2152927',\n",
       " 'creditinfo_co': 'Creditinfo CO sistemoje skolų neregistruota',\n",
       " 'pardavimo_pajamos': '2019: 50 001 - 100 000 € be PVM',\n",
       " 'transportas': '2020-10: 4 automobiliai (priklauso)',\n",
       " 'pranešimai': ['VMI: Įmonė, kuriai taikomos VMI ir SODRA mokestinės pagalbos priemonės dėl COVID-19.'],\n",
       " 'įmonės_amžius': '8 metai 7 mėnesiai 3 dienos',\n",
       " 'įvertinimas': '6.3 / 10 (įvertino 31)',\n",
       " 'prekinis_ženklas': 'Žemaitijos Gerbūvis',\n",
       " 'šūkis': '\"Jūsų svajonių kiemui...\".',\n",
       " 'meta': {'version': 3,\n",
       "  'key': 'uab_laneka',\n",
       "  'is_response_cached': True,\n",
       "  'timestamp': '2020-11-15T00:32:51.335852+00:00',\n",
       "  'origin': 'db_migrate_v2_to_v3'}}"
      ]
     },
     "execution_count": 61,
     "metadata": {},
     "output_type": "execute_result"
    }
   ],
   "source": [
    "viliaus_imones[0]"
   ]
  },
  {
   "cell_type": "code",
   "execution_count": null,
   "id": "b0c3ad73",
   "metadata": {},
   "outputs": [],
   "source": []
  }
 ],
 "metadata": {
  "kernelspec": {
   "display_name": "Python 3 (ipykernel)",
   "language": "python",
   "name": "python3"
  },
  "language_info": {
   "codemirror_mode": {
    "name": "ipython",
    "version": 3
   },
   "file_extension": ".py",
   "mimetype": "text/x-python",
   "name": "python",
   "nbconvert_exporter": "python",
   "pygments_lexer": "ipython3",
   "version": "3.9.7"
  }
 },
 "nbformat": 4,
 "nbformat_minor": 5
}
