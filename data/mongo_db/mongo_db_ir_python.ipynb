{
 "cells": [
  {
   "cell_type": "code",
   "execution_count": 1,
   "id": "da229f49",
   "metadata": {},
   "outputs": [],
   "source": [
    "from pymongo import MongoClient"
   ]
  },
  {
   "cell_type": "code",
   "execution_count": 2,
   "id": "50217d93",
   "metadata": {},
   "outputs": [],
   "source": [
    "# client = MongoClient()"
   ]
  },
  {
   "cell_type": "code",
   "execution_count": 4,
   "id": "a06b7b4b",
   "metadata": {},
   "outputs": [],
   "source": [
    "client = MongoClient(\"mongodb://localhost:27017\")"
   ]
  },
  {
   "cell_type": "code",
   "execution_count": 5,
   "id": "5f581748",
   "metadata": {},
   "outputs": [],
   "source": [
    "db = client.lietuvos_imones"
   ]
  },
  {
   "cell_type": "code",
   "execution_count": 7,
   "id": "b90a2d6e",
   "metadata": {},
   "outputs": [],
   "source": [
    "db = client[\"lietuvos_imones\"]"
   ]
  },
  {
   "cell_type": "code",
   "execution_count": 10,
   "id": "c4116658",
   "metadata": {},
   "outputs": [],
   "source": [
    "imones = db.imones"
   ]
  },
  {
   "cell_type": "code",
   "execution_count": 11,
   "id": "ec001ff6",
   "metadata": {},
   "outputs": [
    {
     "data": {
      "text/plain": [
       "Collection(Database(MongoClient(host=['localhost:27017'], document_class=dict, tz_aware=False, connect=True), 'lietuvos_imones'), 'imones')"
      ]
     },
     "execution_count": 11,
     "metadata": {},
     "output_type": "execute_result"
    }
   ],
   "source": [
    "imones"
   ]
  },
  {
   "cell_type": "code",
   "execution_count": 13,
   "id": "50292623",
   "metadata": {},
   "outputs": [],
   "source": [
    "nauja_imone = {\"pavadinimas\":\"UAB nauja imones\"}"
   ]
  },
  {
   "cell_type": "code",
   "execution_count": 14,
   "id": "0b36e7d8",
   "metadata": {},
   "outputs": [],
   "source": [
    "result = imones.insert_one(nauja_imone)"
   ]
  },
  {
   "cell_type": "code",
   "execution_count": 16,
   "id": "8a3d21db",
   "metadata": {},
   "outputs": [
    {
     "data": {
      "text/plain": [
       "ObjectId('6268e4d7bdb53e7844c9a605')"
      ]
     },
     "execution_count": 16,
     "metadata": {},
     "output_type": "execute_result"
    }
   ],
   "source": [
    "result.inserted_id"
   ]
  },
  {
   "cell_type": "code",
   "execution_count": 17,
   "id": "66576a52",
   "metadata": {},
   "outputs": [],
   "source": [
    "nauja_imone_1 = {\"pavadinimas\":\"UAB nauja imone 1\"}\n",
    "nauja_imone_2 = {\"pavadinimas\":\"UAB nauja imone 2\"}"
   ]
  },
  {
   "cell_type": "code",
   "execution_count": 18,
   "id": "4e0adb42",
   "metadata": {},
   "outputs": [],
   "source": [
    "new_result = imones.insert_many([nauja_imone_1, nauja_imone_2])"
   ]
  },
  {
   "cell_type": "code",
   "execution_count": 19,
   "id": "aa211604",
   "metadata": {},
   "outputs": [
    {
     "data": {
      "text/plain": [
       "[ObjectId('6268e510bdb53e7844c9a606'), ObjectId('6268e510bdb53e7844c9a607')]"
      ]
     },
     "execution_count": 19,
     "metadata": {},
     "output_type": "execute_result"
    }
   ],
   "source": [
    "new_result.inserted_ids"
   ]
  },
  {
   "cell_type": "code",
   "execution_count": 20,
   "id": "911928ed",
   "metadata": {},
   "outputs": [],
   "source": [
    "import pprint"
   ]
  },
  {
   "cell_type": "code",
   "execution_count": 28,
   "id": "20b818a5",
   "metadata": {},
   "outputs": [
    {
     "data": {
      "text/plain": [
       "{'_id': ObjectId('6268e4d7bdb53e7844c9a605'),\n",
       " 'pavadinimas': 'UAB nauja imones'}"
      ]
     },
     "execution_count": 28,
     "metadata": {},
     "output_type": "execute_result"
    }
   ],
   "source": [
    "imones.find_one({\"pavadinimas\": \"UAB nauja imones\"})"
   ]
  },
  {
   "cell_type": "code",
   "execution_count": 29,
   "id": "643fb813",
   "metadata": {},
   "outputs": [
    {
     "data": {
      "text/plain": [
       "{'_id': ObjectId('5fb07731261973556a11202b'),\n",
       " 'pavadinimas': 'UAB \"OLAN LT\"',\n",
       " 'kategorijos': ['Naudingosios iškasenos',\n",
       "  'Akmens gaminiai',\n",
       "  'Betonas ir betono gaminiai',\n",
       "  'Kelių tiesimas, remontas, tiltai',\n",
       "  'Statybinės medžiagos',\n",
       "  'Statybos technika, įranga, nuoma'],\n",
       " 'įmonės_kodas': '302583298',\n",
       " 'pvm_mokėtojo_kodas': 'LT100005854919',\n",
       " 'vadovas': 'Rytis Ratomskis, direktorius',\n",
       " 'adresas': 'Ateities pl. 31, LT-52167 Kaunas',\n",
       " 'telefonas': '+370 643 14922',\n",
       " 'mobilus_telefonas': '+370 643 45605',\n",
       " 'faksas': '+370 37 210757',\n",
       " 'tinklalapis': 'http://www.olan.lt',\n",
       " 'darbuotojai': '6 darbuotojai (apdraustieji)',\n",
       " 'sd_draudėjo_kodas': '2088490',\n",
       " 'vidutinis_atlyginimas': '625,89 € (2020 m. rugsėjis)',\n",
       " 'vsd_įmokų_suma': '881,69 € (2020 m. rugsėjis)',\n",
       " 'creditinfo_co': 'Creditinfo CO sistemoje skolų neregistruota',\n",
       " 'pardavimo_pajamos': '2019: 2 000 001 - 3 000 000 € be PVM',\n",
       " 'transportas': '2020-10: 4 automobiliai (priklauso)',\n",
       " 'pranešimai': ['VMI: Įmonė, kuriai taikomos VMI ir SODRA mokestinės pagalbos priemonės dėl COVID-19.SPSC Skaityti visus »',\n",
       "  'SPSC: Išduotas statybos veiklos įmonių kvalifikacijos atestatas. Suteikta teisė būti ypatingo statinio statybos rangovu. (duomenys atnaujinti 2020-05-13).'],\n",
       " 'įmonės_amžius': '9 metai 10 mėnesių 1 diena',\n",
       " 'įvertinimas': '6.7 / 10 (įvertino 19)',\n",
       " 'prekinis_ženklas': 'Granitinė skalda',\n",
       " 'meta': {'version': 3,\n",
       "  'key': 'uab_olan_lt',\n",
       "  'is_response_cached': True,\n",
       "  'timestamp': '2020-11-15T00:32:46.539431+00:00',\n",
       "  'origin': 'db_migrate_v2_to_v3'}}"
      ]
     },
     "execution_count": 29,
     "metadata": {},
     "output_type": "execute_result"
    }
   ],
   "source": [
    "imones.find_one({\"pavadinimas\": 'UAB \"OLAN LT\"'})\n"
   ]
  },
  {
   "cell_type": "code",
   "execution_count": 33,
   "id": "f9bd3c58",
   "metadata": {
    "scrolled": false
   },
   "outputs": [],
   "source": [
    "imones_list = []\n",
    "for doc in imones.find({'įmonės_amžius': '9 metai 10 mėnesių 1 diena'}):\n",
    "    imones_list.append(doc)"
   ]
  },
  {
   "cell_type": "code",
   "execution_count": 35,
   "id": "83368ac5",
   "metadata": {
    "scrolled": false
   },
   "outputs": [
    {
     "data": {
      "text/plain": [
       "{'_id': ObjectId('5fb07731261973556a11202b'),\n",
       " 'pavadinimas': 'UAB \"OLAN LT\"',\n",
       " 'kategorijos': ['Naudingosios iškasenos',\n",
       "  'Akmens gaminiai',\n",
       "  'Betonas ir betono gaminiai',\n",
       "  'Kelių tiesimas, remontas, tiltai',\n",
       "  'Statybinės medžiagos',\n",
       "  'Statybos technika, įranga, nuoma'],\n",
       " 'įmonės_kodas': '302583298',\n",
       " 'pvm_mokėtojo_kodas': 'LT100005854919',\n",
       " 'vadovas': 'Rytis Ratomskis, direktorius',\n",
       " 'adresas': 'Ateities pl. 31, LT-52167 Kaunas',\n",
       " 'telefonas': '+370 643 14922',\n",
       " 'mobilus_telefonas': '+370 643 45605',\n",
       " 'faksas': '+370 37 210757',\n",
       " 'tinklalapis': 'http://www.olan.lt',\n",
       " 'darbuotojai': '6 darbuotojai (apdraustieji)',\n",
       " 'sd_draudėjo_kodas': '2088490',\n",
       " 'vidutinis_atlyginimas': '625,89 € (2020 m. rugsėjis)',\n",
       " 'vsd_įmokų_suma': '881,69 € (2020 m. rugsėjis)',\n",
       " 'creditinfo_co': 'Creditinfo CO sistemoje skolų neregistruota',\n",
       " 'pardavimo_pajamos': '2019: 2 000 001 - 3 000 000 € be PVM',\n",
       " 'transportas': '2020-10: 4 automobiliai (priklauso)',\n",
       " 'pranešimai': ['VMI: Įmonė, kuriai taikomos VMI ir SODRA mokestinės pagalbos priemonės dėl COVID-19.SPSC Skaityti visus »',\n",
       "  'SPSC: Išduotas statybos veiklos įmonių kvalifikacijos atestatas. Suteikta teisė būti ypatingo statinio statybos rangovu. (duomenys atnaujinti 2020-05-13).'],\n",
       " 'įmonės_amžius': '9 metai 10 mėnesių 1 diena',\n",
       " 'įvertinimas': '6.7 / 10 (įvertino 19)',\n",
       " 'prekinis_ženklas': 'Granitinė skalda',\n",
       " 'meta': {'version': 3,\n",
       "  'key': 'uab_olan_lt',\n",
       "  'is_response_cached': True,\n",
       "  'timestamp': '2020-11-15T00:32:46.539431+00:00',\n",
       "  'origin': 'db_migrate_v2_to_v3'}}"
      ]
     },
     "execution_count": 35,
     "metadata": {},
     "output_type": "execute_result"
    }
   ],
   "source": [
    "imones_list[0]"
   ]
  },
  {
   "cell_type": "code",
   "execution_count": null,
   "id": "5b44b41e",
   "metadata": {},
   "outputs": [],
   "source": []
  }
 ],
 "metadata": {
  "kernelspec": {
   "display_name": "Python 3 (ipykernel)",
   "language": "python",
   "name": "python3"
  },
  "language_info": {
   "codemirror_mode": {
    "name": "ipython",
    "version": 3
   },
   "file_extension": ".py",
   "mimetype": "text/x-python",
   "name": "python",
   "nbconvert_exporter": "python",
   "pygments_lexer": "ipython3",
   "version": "3.9.7"
  }
 },
 "nbformat": 4,
 "nbformat_minor": 5
}
